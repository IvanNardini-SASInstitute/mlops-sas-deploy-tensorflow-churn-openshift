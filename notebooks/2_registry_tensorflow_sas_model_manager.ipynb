{
 "cells": [
  {
   "cell_type": "markdown",
   "metadata": {},
   "source": [
    "# Overview"
   ]
  },
  {
   "cell_type": "markdown",
   "metadata": {},
   "source": [
    "## Objective\n",
    "\n",
    "This notebook provides an example of how to registry a Tensoflow model on SAS Model Manager.\n",
    "\n",
    "The goal is manage the e2e with the model deployment on RedHat OpenShift"
   ]
  },
  {
   "cell_type": "markdown",
   "metadata": {},
   "source": [
    "## Assumption\n",
    "\n",
    "At that time, SAS does not have a proper Python library to deal with Tensorflow models.\n",
    "\n",
    "But we can use some pzmm and sasctl functionalities."
   ]
  },
  {
   "cell_type": "markdown",
   "metadata": {},
   "source": [
    "## Import and Setup"
   ]
  },
  {
   "cell_type": "code",
   "execution_count": null,
   "metadata": {},
   "outputs": [],
   "source": [
    "# General\n",
    "import os\n",
    "import shutil\n",
    "import subprocess\n",
    "\n",
    "# Data\n",
    "import pandas as pd\n",
    "\n",
    "# SAS Model Manager\n",
    "import sasctl\n",
    "from sasctl.services import model_repository, model_management\n",
    "import sasctl.pzmm as pzmm"
   ]
  },
  {
   "cell_type": "markdown",
   "metadata": {},
   "source": [
    "## Helpers"
   ]
  },
  {
   "cell_type": "code",
   "execution_count": null,
   "metadata": {},
   "outputs": [],
   "source": [
    "def setup(folder, modelname):\n",
    "    model_folder =  os.path.join(folder, modelname)\n",
    "    #if yes, delete it\n",
    "    if os.path.exists(model_folder):\n",
    "        shutil.rmtree(model_folder)\n",
    "        print(\"Older \" , model_folder ,  \"folder removed!\")\n",
    "    os.makedirs(model_folder)\n",
    "    print(\"Directory \" , model_folder ,  \" created!\")\n",
    "    return model_folder\n",
    "\n",
    "def write_requirements(folder, filename):\n",
    "    reqfile_path = os.path.join(folder, filename)\n",
    "    with open(reqfile_path, \"w\") as f:\n",
    "        sterr = subprocess.call([\"pip\", \"freeze\"], stdout=f, stderr=-1)\n",
    "    if sterr==0:\n",
    "        print(\"Requirements file created under \" , reqfile_path)\n",
    "    else:\n",
    "        print(\"pip freeze command fails!\")\n",
    "\n",
    "def get_output_variables(names, labels, eventprob):\n",
    "    outputVar = pd.DataFrame(columns=names)\n",
    "    outputVar[names[0]] = labels\n",
    "    outputVar[names[1]] = eventprob\n",
    "    return outputVar\n",
    "\n",
    "def zip_folder(zipfolder, name, rmtree=False):\n",
    "    folder_to_zip_path = os.path.join(zipfolder, name)\n",
    "    shutil.make_archive(\n",
    "        folder_to_zip_path,        # folder to zip\n",
    "        'zip',                  # the archive format - or tar, bztar, gztar \n",
    "        root_dir=zip_folder,    # folder to zip root\n",
    "        base_dir=name)          # folder to zip name\n",
    "    if rmtree:\n",
    "        shutil.rmtree(zip_folder_path) # remove .zip folder\n",
    "    \n",
    "\n",
    "def run_model_tracking():\n",
    "    pass"
   ]
  },
  {
   "cell_type": "markdown",
   "metadata": {},
   "source": [
    "## Define Variables"
   ]
  },
  {
   "cell_type": "code",
   "execution_count": null,
   "metadata": {},
   "outputs": [],
   "source": [
    "#Base\n",
    "BASE_DIR_PATH = os.getcwd()\n",
    "DATA_DIR_PATH = os.path.join(BASE_DIR_PATH, '../data')\n",
    "\n",
    "# Data directories paths\n",
    "TRAIN_DIR_PATH = os.path.join(DATA_DIR_PATH, 'train')\n",
    "\n",
    "# Data file paths\n",
    "TRAIN_DATA_PATH = os.path.join(TRAIN_DIR_PATH, 'train.csv')\n",
    "\n",
    "# Models directory\n",
    "MODELS_DIR = os.path.join(BASE_DIR_PATH, '../models')\n",
    "\n",
    "# Deriverables directory\n",
    "DELIVERS_DIR = os.path.join(BASE_DIR_PATH, '../deliverables')"
   ]
  },
  {
   "cell_type": "markdown",
   "metadata": {},
   "source": [
    "# 1. Model Governance with SAS Model Manager Registry\n",
    "\n",
    "In general, SAS Model Manager handles several files to guarantee model governance in the registry. \n",
    "\n",
    "For example, in case of pickle model, we have\n",
    "\n",
    "- Required\n",
    "\n",
    "    1. requirement.json\n",
    "    2. score.py\n",
    "    3. model.pkl\n",
    "    4. inputVar.json\n",
    "    5. outputVar.json\n",
    "    6. ModelProperties.json\n",
    "    \n",
    "\n",
    "- Optional\n",
    "\n",
    "    7. train.py\n",
    "    8. fileMetadata.json\n",
    "    9. dmcas_fitstat.json\n",
    "    10. dmcas_roc\n",
    "    11. dmcas_lift\n",
    "\n",
    "Because we're going to deploy on RedHat OpenShift, we jusy need some of them for compliance."
   ]
  },
  {
   "cell_type": "markdown",
   "metadata": {},
   "source": [
    "## Create Model Folder"
   ]
  },
  {
   "cell_type": "markdown",
   "metadata": {},
   "source": [
    "### Setup Model folder"
   ]
  },
  {
   "cell_type": "code",
   "execution_count": null,
   "metadata": {},
   "outputs": [],
   "source": [
    "# working dir\n",
    "WRK_DIR = setup(DELIVERS_DIR, 'champion')"
   ]
  },
  {
   "cell_type": "code",
   "execution_count": null,
   "metadata": {},
   "outputs": [],
   "source": [
    "# Zip TF variables\n",
    "TF_SAVEDMODEL_NAME = os.listdir(WRK_DIR)[-1]\n",
    "ZIP_TF_SAVEDMODEL_PATH = os.path.join(WRK_DIR, TF_SAVEDMODEL_NAME)"
   ]
  },
  {
   "cell_type": "markdown",
   "metadata": {},
   "source": [
    "### Write requirement.txt"
   ]
  },
  {
   "cell_type": "code",
   "execution_count": null,
   "metadata": {},
   "outputs": [],
   "source": [
    "write_requirements(WRK_DIR, 'requirements.txt')"
   ]
  },
  {
   "cell_type": "markdown",
   "metadata": {},
   "source": [
    "### Write Metadata files"
   ]
  },
  {
   "cell_type": "code",
   "execution_count": null,
   "metadata": {},
   "outputs": [],
   "source": [
    "data_train = pd.read_csv(TRAIN_DATA_PATH, sep=',')\n",
    "\n",
    "TARGET = 'BAD'\n",
    "PREDICTORS = ['REASON', 'JOB', 'LOAN', 'MORTDUE', 'VALUE', 'YOJ', 'DEROG', 'DELINQ', 'CLAGE', 'NINQ', 'CLNO', 'DEBTINC']"
   ]
  },
  {
   "cell_type": "code",
   "execution_count": null,
   "metadata": {},
   "outputs": [],
   "source": [
    "JSONFiles = pzmm.JSONFiles()\n",
    "#write input.json\n",
    "JSONFiles.writeVarJSON(data_train[PREDICTORS], isInput=True, jPath=WRK_DIR)"
   ]
  },
  {
   "cell_type": "code",
   "execution_count": null,
   "metadata": {},
   "outputs": [],
   "source": [
    "NAMES=['EM_CLASSIFICATION', 'EM_EVENTPROBABILITY']\n",
    "LABELS=['0', '1']\n",
    "EVENTPROB=0.5\n",
    "outputVar = get_output_variables(NAMES, LABELS, EVENTPROB)\n",
    "\n",
    "#write output.json\n",
    "JSONFiles.writeVarJSON(outputVar, isInput=False, jPath=WRK_DIR)"
   ]
  },
  {
   "cell_type": "code",
   "execution_count": null,
   "metadata": {},
   "outputs": [],
   "source": [
    "MODELNAME = 'Tensorflow BoostedTreesClassifier'\n",
    "#write \n",
    "JSONFiles.writeModelPropertiesJSON(modelName=MODELNAME,\n",
    "                                   modelDesc='A Classifier for Tensorflow Boosted Trees models',\n",
    "                                   targetVariable=TARGET,\n",
    "                                   modelType='Boosted Tree',\n",
    "                                   modelPredictors=PREDICTORS,\n",
    "                                   targetEvent=1,\n",
    "                                   numTargetCategories=1,\n",
    "                                   eventProbVar='EM_EVENTPROBABILITY',\n",
    "                                   jPath=WRK_DIR,\n",
    "                                   modeler='ivnard')"
   ]
  },
  {
   "cell_type": "markdown",
   "metadata": {},
   "source": [
    "### Create zip files"
   ]
  },
  {
   "cell_type": "code",
   "execution_count": null,
   "metadata": {},
   "outputs": [],
   "source": [
    "# Zip TF SavedModel format\n",
    "    ZIP_TF_SAVEDMODEL_NAME = os.path.join(WRK_DIR, TF_SAVEDMODEL_NAME)\n",
    "shutil.make_archive(\n",
    "    ZIP_TF_SAVEDMODEL_NAME, \n",
    "    'zip',                                     # the archive format - or tar, bztar, gztar \n",
    "    root_dir=WRK_DIR,                          # root for archive - current working dir if None\n",
    "    base_dir=TF_SAVEDMODEL_NAME)               # start archiving from here - cwd if None too\n",
    "shutil.rmtree(ZIP_TF_SAVEDMODEL_NAME)"
   ]
  },
  {
   "cell_type": "code",
   "execution_count": null,
   "metadata": {},
   "outputs": [],
   "source": [
    "ZIP_CHAMPION_NAME = WRK_DIR.split('/')[-1]\n",
    "# Zip the entire folder\n",
    "shutil.make_archive(\n",
    "    WRK_DIR, \n",
    "    'zip',                                     # the archive format - or tar, bztar, gztar \n",
    "    root_dir=DELIVERS_DIR,                          # root for archive - current working dir if None\n",
    "    base_dir=ZIP_CHAMPION_NAME)"
   ]
  },
  {
   "cell_type": "code",
   "execution_count": null,
   "metadata": {},
   "outputs": [],
   "source": []
  }
 ],
 "metadata": {
  "kernelspec": {
   "display_name": "Python 3",
   "language": "python",
   "name": "python3"
  },
  "language_info": {
   "codemirror_mode": {
    "name": "ipython",
    "version": 3
   },
   "file_extension": ".py",
   "mimetype": "text/x-python",
   "name": "python",
   "nbconvert_exporter": "python",
   "pygments_lexer": "ipython3",
   "version": "3.8.5"
  }
 },
 "nbformat": 4,
 "nbformat_minor": 4
}
