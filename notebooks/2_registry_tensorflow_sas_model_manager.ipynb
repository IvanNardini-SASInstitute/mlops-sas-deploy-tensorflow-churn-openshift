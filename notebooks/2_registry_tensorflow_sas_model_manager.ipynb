{
 "cells": [
  {
   "cell_type": "markdown",
   "metadata": {},
   "source": [
    "# Overview"
   ]
  },
  {
   "cell_type": "markdown",
   "metadata": {},
   "source": [
    "## Objective\n",
    "\n",
    "This notebook provides an example of how to registry a Tensoflow model on SAS Model Manager.\n",
    "\n",
    "The goal is manage the e2e with the model deployment on RedHat OpenShift"
   ]
  },
  {
   "cell_type": "markdown",
   "metadata": {},
   "source": [
    "## Assumption\n",
    "\n",
    "At that time, SAS does not have a proper Python library to deal with Tensorflow models.\n",
    "\n",
    "But we can use some pzmm and sasctl functionalities."
   ]
  },
  {
   "cell_type": "markdown",
   "metadata": {},
   "source": [
    "## Import and Setup"
   ]
  },
  {
   "cell_type": "code",
   "execution_count": 24,
   "metadata": {},
   "outputs": [],
   "source": [
    "# General\n",
    "import os\n",
    "import shutil\n",
    "import subprocess\n",
    "\n",
    "# SAS Model Manager\n",
    "import sasctl\n",
    "from sasctl import pzmm"
   ]
  },
  {
   "cell_type": "markdown",
   "metadata": {},
   "source": [
    "## Define Variables"
   ]
  },
  {
   "cell_type": "code",
   "execution_count": 9,
   "metadata": {},
   "outputs": [],
   "source": [
    "#Base\n",
    "BASE_DIR_PATH = os.getcwd()\n",
    "DATA_DIR_PATH = os.path.join(BASE_DIR_PATH, '../data')\n",
    "\n",
    "# Data directories paths\n",
    "TRAIN_DIR_PATH = os.path.join(DATA_DIR_PATH, 'train')\n",
    "\n",
    "# Data file paths\n",
    "TRAIN_DATA_PATH = os.path.join(TRAIN_DIR_PATH, 'train.csv')\n",
    "\n",
    "# Models directory\n",
    "MODELS_DIR = os.path.join(BASE_DIR_PATH, '../models')\n",
    "\n",
    "# Deriverables directory\n",
    "DELIVERS_DIR = os.path.join(BASE_DIR_PATH, '../deliverables')"
   ]
  },
  {
   "cell_type": "markdown",
   "metadata": {},
   "source": [
    "## Helpers"
   ]
  },
  {
   "cell_type": "code",
   "execution_count": 46,
   "metadata": {},
   "outputs": [],
   "source": [
    "def setup(folder, modelname):\n",
    "    model_folder =  os.path.join(folder, modelname)\n",
    "    #if yes, delete it\n",
    "    if os.path.exists(model_folder):\n",
    "        shutil.rmtree(model_folder)\n",
    "        print(\"Older \" , model_folder ,  \"folder removed!\")\n",
    "    os.makedirs(model_folder)\n",
    "    print(\"Directory \" , model_folder ,  \" created!\")\n",
    "    return model_folder\n",
    "\n",
    "def _write_requirements(folder, filename):\n",
    "    reqfile_path = os.path.join(folder, filename)\n",
    "    with open(\"requirements.txt\", \"w\") as f:\n",
    "        sterr = subprocess.call([\"pip\", \"freeze\"], stdout=f, stderr=-1)\n",
    "    if sterr==0:\n",
    "        print(\"Requirements file created under \" , reqfile_path)\n",
    "    else:\n",
    "        print(\"pip freeze command fails!\")\n",
    "        \n",
    "def tracking_function():\n",
    "    pass"
   ]
  },
  {
   "cell_type": "markdown",
   "metadata": {},
   "source": [
    "# 1. Model Governance with SAS Model Manager Registry\n",
    "\n",
    "In general, SAS Model Manager handles several files to guarantee model governance in the registry. \n",
    "\n",
    "For example, in case of pickle model, we have\n",
    "\n",
    "- Required\n",
    "\n",
    "    1. requirement.json\n",
    "    2. score.py\n",
    "    3. model.pkl\n",
    "    4. inputVar.json\n",
    "    5. outputVar.json\n",
    "    6. ModelProperties.json\n",
    "    \n",
    "\n",
    "- Optional\n",
    "\n",
    "    7. train.py\n",
    "    8. fileMetadata.json\n",
    "    9. dmcas_fitstat.json\n",
    "    10. dmcas_roc\n",
    "    11. dmcas_lift\n",
    "\n",
    "Because we're going to deploy on RedHat OpenShift, we jusy need some of them for compliance."
   ]
  },
  {
   "cell_type": "markdown",
   "metadata": {},
   "source": [
    "## Create Model Folder"
   ]
  },
  {
   "cell_type": "code",
   "execution_count": 47,
   "metadata": {},
   "outputs": [
    {
     "name": "stdout",
     "output_type": "stream",
     "text": [
      "Older  /home/jovyan/work/notebooks/../deliverables/champion folder removed!\n",
      "Directory  /home/jovyan/work/notebooks/../deliverables/champion  created!\n"
     ]
    }
   ],
   "source": [
    "WRK_DIR = setup(DELIVERS_DIR, 'champion')"
   ]
  },
  {
   "cell_type": "code",
   "execution_count": 48,
   "metadata": {},
   "outputs": [
    {
     "name": "stdout",
     "output_type": "stream",
     "text": [
      "Requirements file created under  /home/jovyan/work/notebooks/../deliverables/champion/requirements.txt\n"
     ]
    }
   ],
   "source": [
    "_write_requirements(WRK_DIR, 'requirements.txt')"
   ]
  }
 ],
 "metadata": {
  "kernelspec": {
   "display_name": "Python 3",
   "language": "python",
   "name": "python3"
  },
  "language_info": {
   "codemirror_mode": {
    "name": "ipython",
    "version": 3
   },
   "file_extension": ".py",
   "mimetype": "text/x-python",
   "name": "python",
   "nbconvert_exporter": "python",
   "pygments_lexer": "ipython3",
   "version": "3.8.5"
  }
 },
 "nbformat": 4,
 "nbformat_minor": 4
}
