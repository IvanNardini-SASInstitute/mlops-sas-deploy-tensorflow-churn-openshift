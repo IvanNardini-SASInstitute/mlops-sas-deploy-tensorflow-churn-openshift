{
 "cells": [
  {
   "cell_type": "markdown",
   "metadata": {},
   "source": [
    "# Overview "
   ]
  },
  {
   "cell_type": "markdown",
   "metadata": {},
   "source": [
    "## Objective\n",
    "\n",
    "This notebook provides an example of how to train Tensorflow classifiers using the HMEQ dataset\n",
    "\n",
    "The goal is to predict whether a customer is a BAD (default) borrower, which in this dataset is a binary classification task."
   ]
  },
  {
   "cell_type": "markdown",
   "metadata": {},
   "source": [
    "## Assumption\n",
    "\n",
    "We are working in big data context. \n",
    "\n",
    "Then, I'm going to work with HMEQ dataset as it is so large that it would not fit in RAM. \n",
    "\n",
    "Then we use the Tensorflow framework to deal with that."
   ]
  },
  {
   "cell_type": "markdown",
   "metadata": {},
   "source": [
    "## Imports and setup"
   ]
  },
  {
   "cell_type": "code",
   "execution_count": 1,
   "metadata": {},
   "outputs": [],
   "source": [
    "#General\n",
    "import os\n",
    "import functools\n",
    "import shutil\n",
    "import datetime\n",
    "\n",
    "#Analysis\n",
    "import numpy as np\n",
    "import pandas as pd\n",
    "from sklearn.metrics import roc_curve, confusion_matrix\n",
    "import matplotlib\n",
    "import matplotlib.pyplot as plt\n",
    "import seaborn as sns\n",
    "\n",
    "# Modelling\n",
    "import tensorflow as tf\n",
    "from tensorflow import keras\n",
    "from tensorflow.keras.models import Sequential\n",
    "from tensorflow.keras.layers import Dense, DenseFeatures, Dropout\n",
    "from tensorflow.keras.optimizers import Adam\n",
    "from tensorflow.keras.losses import BinaryCrossentropy\n",
    "\n",
    "# Settings\n",
    "matplotlib.rcParams['figure.figsize'] = (12, 10)"
   ]
  },
  {
   "cell_type": "markdown",
   "metadata": {},
   "source": [
    "## Define variables"
   ]
  },
  {
   "cell_type": "code",
   "execution_count": 2,
   "metadata": {},
   "outputs": [],
   "source": [
    "BASE_DIR_PATH = os.getcwd()\n",
    "DATA_DIR_PATH = os.path.join(BASE_DIR_PATH, '../data')\n",
    "\n",
    "# Data directories paths\n",
    "TRAIN_DIR_PATH = os.path.join(DATA_DIR_PATH, 'train')\n",
    "TEST_DIR_PATH = os.path.join(DATA_DIR_PATH, 'test')\n",
    "VAL_DIR_PATH = os.path.join(DATA_DIR_PATH, 'val')\n",
    "\n",
    "# Data file paths\n",
    "TRAIN_DATA_PATH = os.path.join(TRAIN_DIR_PATH, 'train.csv')\n",
    "TEST_DATA_PATH = os.path.join(TEST_DIR_PATH, 'test.csv')\n",
    "VAL_DATA_PATH = os.path.join(VAL_DIR_PATH, 'val.csv')\n",
    "\n",
    "# Model directories\n",
    "LOG_DIR = os.path.join(BASE_DIR_PATH, '../logs')\n",
    "MODEL_DIR = os.path.join(BASE_DIR_PATH, '../models')"
   ]
  },
  {
   "cell_type": "markdown",
   "metadata": {},
   "source": [
    "## Define Helpers\n",
    "\n",
    "**Notice**: TF adds tf.keras.layers.experimental.preprocessing to deal with preprocessing tasks\n",
    "\n",
    "TF needs several preprocessing functions in order to perform data manipulation and feature engineering tasks"
   ]
  },
  {
   "cell_type": "code",
   "execution_count": 3,
   "metadata": {},
   "outputs": [],
   "source": [
    "## Preprocessing data\n",
    "\n",
    "def _set_categorical_type(dataframe: pd.DataFrame) -> pd.DataFrame:\n",
    "    '''\n",
    "    Set the categorical type as string if neeeded\n",
    "    :param dataframe: \n",
    "    :return: dataframe\n",
    "    '''\n",
    "    for column in CATEGORICAL_VARIABLES:\n",
    "        if (dataframe[column].dtype == 'O'):\n",
    "            dataframe[column] = dataframe[column].astype('string')\n",
    "    return dataframe\n",
    "\n",
    "def _set_categorical_empty(dataframe: pd.DataFrame) -> pd.DataFrame:\n",
    "    '''\n",
    "    Change object type for categorical variable to avoid TF issue\n",
    "    :param dataframe: \n",
    "    :return: dataframe\n",
    "    '''\n",
    "    for column in CATEGORICAL_VARIABLES:\n",
    "        if any(dataframe[column].isna()):\n",
    "            dataframe[column] = dataframe[column].fillna('')\n",
    "    return dataframe\n",
    "\n",
    "def _set_numerical_type(dataframe: pd.DataFrame) -> pd.DataFrame:\n",
    "    '''\n",
    "    Set the numerical type as float64 if needed\n",
    "    :param dataframe:\n",
    "    :return: dataframe\n",
    "    '''\n",
    "    for column in NUMERICAL_VARIABLES:\n",
    "        if (dataframe[column].dtype == 'int64'):\n",
    "            dataframe[column] = dataframe[column].astype('float64')\n",
    "    return dataframe\n",
    "\n",
    "def _get_impute_parameters_cat(categorical_variables: list) -> dict:\n",
    "    '''\n",
    "    For each column in the categorical features, assign default value for missings.\n",
    "    :param categorical_variables:\n",
    "    :return: impute_parameters\n",
    "    '''\n",
    "\n",
    "    impute_parameters = {}\n",
    "    for column in categorical_variables:\n",
    "        impute_parameters[column] = 'Missing'\n",
    "    return impute_parameters\n",
    "    \n",
    "def _impute_missing_categorical(inputs: dict, target) -> dict:\n",
    "    '''\n",
    "    Given a tf.data.Dataset, impute missing in categorical variables with default 'missing' value\n",
    "    :param inputs:\n",
    "    :param target:\n",
    "    :return: output, target\n",
    "    '''\n",
    "    impute_parameters = _get_impute_parameters_cat(CATEGORICAL_VARIABLES)\n",
    "    # Since we modify just some features, we need to start by setting `outputs` to a copy of `inputs.\n",
    "    output = inputs.copy()\n",
    "    for key, value in impute_parameters.items():\n",
    "        is_blank = tf.math.equal('', inputs[key])\n",
    "        tf_other = tf.constant(value, dtype=np.string_)\n",
    "        output[key] = tf.where(is_blank, tf_other, inputs[key])\n",
    "    return output, target\n",
    "\n",
    "def _get_mean_parameter(dataframe: pd.DataFrame, column: str) -> float:\n",
    "    '''\n",
    "    Given a DataFrame column, calculate mean\n",
    "    :param dataframe: \n",
    "    :param column: \n",
    "    :return: mean\n",
    "    '''\n",
    "    mean = dataframe[column].mean()\n",
    "    return mean\n",
    "\n",
    "def _get_impute_parameters_num(dataframe: pd.DataFrame, numerical_variables: list) -> dict:\n",
    "    '''\n",
    "    Given a DataFrame and its numerical variables, return the associated dictionary of means\n",
    "    :param dataframe: \n",
    "    :param numerical_variables: \n",
    "    :return: impute_parameters\n",
    "    '''\n",
    "\n",
    "    impute_parameters = {}\n",
    "    for column in numerical_variables:\n",
    "        impute_parameters[column] = _get_mean_parameter(dataframe, column)\n",
    "    return impute_parameters\n",
    "\n",
    "def _impute_missing_numerical(inputs: dict, target) -> dict:\n",
    "    '''\n",
    "    Given a tf.data.Dataset, impute missing in numerical variables with training means\n",
    "    :param inputs:\n",
    "    :param target:\n",
    "    :return: output, target\n",
    "    '''\n",
    "    # Get mean parameters for imputing \n",
    "    impute_parameters = _get_impute_parameters_num(data_train, NUMERICAL_VARIABLES) \n",
    "    # Since we modify just some features, we need to start by setting `outputs` to a copy of `inputs.\n",
    "    output = inputs.copy()\n",
    "    for key, value in impute_parameters.items():\n",
    "        # Check if nan (true, false mask)\n",
    "        is_miss = tf.math.is_nan(inputs[key])\n",
    "        # Store mean in a tf.constant\n",
    "        tf_mean = tf.constant(value, dtype=np.float64)\n",
    "        # Impute missing\n",
    "        output[key] = tf.where(is_miss, tf_mean, inputs[key])\n",
    "    return output, target\n",
    "\n",
    "def _get_std_parameter(dataframe:pd.DataFrame, column:str) -> float:\n",
    "    '''\n",
    "    Given a DataFrame column, calculate std\n",
    "    :param dataframe:\n",
    "    :param column:\n",
    "    :return: std\n",
    "    '''\n",
    "    std = dataframe[column].std()\n",
    "    return std\n",
    "\n",
    "def _get_normalization_parameters(numerical_variables: list) -> dict:\n",
    "    '''\n",
    "    For each numerical variable, calculate mean and std based on training dataframe\n",
    "    :param numerical_variables: \n",
    "    :return: normalize_parameters\n",
    "    '''\n",
    "    normalize_parameters = {}\n",
    "    for column in numerical_variables:\n",
    "        normalize_parameters[column] = {}\n",
    "        normalize_parameters[column]['mean'] = _get_mean_parameter(data_train, column)\n",
    "        normalize_parameters[column]['std'] = _get_std_parameter(data_train, column)\n",
    "    return normalize_parameters\n",
    "    \n",
    "def normalizer(column, mean, std):\n",
    "    '''\n",
    "    Given a column, Normalize with calculated mean and std\n",
    "    :param column: \n",
    "    :param mean: \n",
    "    :param std: \n",
    "    :return: \n",
    "    '''\n",
    "    return (column - mean) / std\n",
    "            \n",
    "def check_feature(feature_column):\n",
    "    '''\n",
    "    Given a tf.feature_column and an iter, transform a batch of data\n",
    "    :param feature_column:\n",
    "    :return: None\n",
    "    '''\n",
    "    feature_layer = keras.layers.DenseFeatures(feature_column)\n",
    "    print(feature_layer(example_batch).numpy())\n",
    "\n",
    "def calculate_roc(labels, predictions): #sample\n",
    "    fpr, tpr, _ = roc_curve(labels, predictions)\n",
    "    return fpr, tpr\n",
    "    \n",
    "def calculate_correlation_matrix(labels, predictions, p=0.5):\n",
    "    corrmat = confusion_matrix(labels, predictions > p)\n",
    "    return corrmat\n",
    "    \n",
    "def plot_metrics(name, labels, predictions, p=0.5):\n",
    "    metrics = ['roc', 'corrmat']\n",
    "    for n, metric in enumerate(metrics):\n",
    "        plt.subplot(2,2,n+1)\n",
    "        if metric == 'corrmat':\n",
    "            corrmat = calculate_correlation_matrix(labels, predictions, p)\n",
    "            sns.heatmap(corrmat, annot=True, fmt=\"d\")\n",
    "            plt.title(name + ' - ' + 'Confusion matrix with p = {:.2f}'.format(p))\n",
    "            plt.ylabel('Actual label')\n",
    "            plt.xlabel('Predicted label')\n",
    "        if metric == 'roc':\n",
    "            fpr, tpr = calculate_roc(labels=labels, predictions=predictions)\n",
    "            plt.plot(fpr, tpr)\n",
    "            plt.title(name + ' - ' + 'ROC curve')\n",
    "            plt.xlabel('false positive rate')\n",
    "            plt.ylabel('true positive rate')\n",
    "            plt.xlim(0,)\n",
    "            plt.ylim(0,)\n",
    "            \n",
    "def print_metrics(corrmat, metrics):\n",
    "    print('Correlation matrix info')\n",
    "    print('True Negatives - No default loans that pay', corrmat[0][0])\n",
    "    print('False Positives - No default loans that dont pay', corrmat[0][1])\n",
    "    print('False Negatives - Default loans that pay', corrmat[1][0])\n",
    "    print('True Positives: - Default loans that dont pay', corrmat[1][1])\n",
    "    print('Total Defauts: ', np.sum(corrmat[1]))\n",
    "    print()\n",
    "    print('-'*20)\n",
    "    print()\n",
    "    print('Evalutation Metrics')\n",
    "    for key, value in metrics.items():\n",
    "        print(key, ':', value)"
   ]
  },
  {
   "cell_type": "markdown",
   "metadata": {},
   "source": [
    "---"
   ]
  },
  {
   "cell_type": "markdown",
   "metadata": {},
   "source": [
    "# 1. Data"
   ]
  },
  {
   "cell_type": "markdown",
   "metadata": {},
   "source": [
    "## Preview data"
   ]
  },
  {
   "cell_type": "code",
   "execution_count": 4,
   "metadata": {},
   "outputs": [
    {
     "name": "stdout",
     "output_type": "stream",
     "text": [
      "BAD,LOAN,MORTDUE,VALUE,REASON,JOB,YOJ,DEROG,DELINQ,CLAGE,NINQ,CLNO,DEBTINC\r\n",
      "0,34400,97971.0,145124.0,DebtCon,Other,13.0,0.0,0.0,67.8320416646805,1.0,36.0,40.4027058419691\r\n",
      "0,13600,89937.0,110986.0,DebtCon,Sales,14.0,,2.0,146.718742448452,1.0,17.0,33.7471158335903\r\n",
      "1,10800,75000.0,87400.0,HomeImp,Other,7.0,1.0,0.0,101.46666666666701,2.0,19.0,\r\n",
      "0,14900,87167.0,114219.0,DebtCon,ProfExe,8.0,0.0,0.0,194.113173533089,2.0,36.0,41.3297639035293\r\n"
     ]
    }
   ],
   "source": [
    "!head -n 5 ../data/train/train.csv"
   ]
  },
  {
   "cell_type": "markdown",
   "metadata": {},
   "source": [
    "## Load Data"
   ]
  },
  {
   "cell_type": "code",
   "execution_count": 5,
   "metadata": {},
   "outputs": [],
   "source": [
    "data_train = pd.read_csv(TRAIN_DATA_PATH, sep=',')\n",
    "data_test = pd.read_csv(TEST_DATA_PATH, sep=',')\n",
    "data_val = pd.read_csv(VAL_DATA_PATH, sep=',')                              "
   ]
  },
  {
   "cell_type": "code",
   "execution_count": 6,
   "metadata": {},
   "outputs": [
    {
     "data": {
      "text/html": [
       "<div>\n",
       "<style scoped>\n",
       "    .dataframe tbody tr th:only-of-type {\n",
       "        vertical-align: middle;\n",
       "    }\n",
       "\n",
       "    .dataframe tbody tr th {\n",
       "        vertical-align: top;\n",
       "    }\n",
       "\n",
       "    .dataframe thead th {\n",
       "        text-align: right;\n",
       "    }\n",
       "</style>\n",
       "<table border=\"1\" class=\"dataframe\">\n",
       "  <thead>\n",
       "    <tr style=\"text-align: right;\">\n",
       "      <th></th>\n",
       "      <th>BAD</th>\n",
       "      <th>LOAN</th>\n",
       "      <th>MORTDUE</th>\n",
       "      <th>VALUE</th>\n",
       "      <th>REASON</th>\n",
       "      <th>JOB</th>\n",
       "      <th>YOJ</th>\n",
       "      <th>DEROG</th>\n",
       "      <th>DELINQ</th>\n",
       "      <th>CLAGE</th>\n",
       "      <th>NINQ</th>\n",
       "      <th>CLNO</th>\n",
       "      <th>DEBTINC</th>\n",
       "    </tr>\n",
       "  </thead>\n",
       "  <tbody>\n",
       "    <tr>\n",
       "      <th>0</th>\n",
       "      <td>0</td>\n",
       "      <td>34400</td>\n",
       "      <td>97971.0</td>\n",
       "      <td>145124.0</td>\n",
       "      <td>DebtCon</td>\n",
       "      <td>Other</td>\n",
       "      <td>13.0</td>\n",
       "      <td>0.0</td>\n",
       "      <td>0.0</td>\n",
       "      <td>67.832042</td>\n",
       "      <td>1.0</td>\n",
       "      <td>36.0</td>\n",
       "      <td>40.402706</td>\n",
       "    </tr>\n",
       "    <tr>\n",
       "      <th>1</th>\n",
       "      <td>0</td>\n",
       "      <td>13600</td>\n",
       "      <td>89937.0</td>\n",
       "      <td>110986.0</td>\n",
       "      <td>DebtCon</td>\n",
       "      <td>Sales</td>\n",
       "      <td>14.0</td>\n",
       "      <td>NaN</td>\n",
       "      <td>2.0</td>\n",
       "      <td>146.718742</td>\n",
       "      <td>1.0</td>\n",
       "      <td>17.0</td>\n",
       "      <td>33.747116</td>\n",
       "    </tr>\n",
       "    <tr>\n",
       "      <th>2</th>\n",
       "      <td>1</td>\n",
       "      <td>10800</td>\n",
       "      <td>75000.0</td>\n",
       "      <td>87400.0</td>\n",
       "      <td>HomeImp</td>\n",
       "      <td>Other</td>\n",
       "      <td>7.0</td>\n",
       "      <td>1.0</td>\n",
       "      <td>0.0</td>\n",
       "      <td>101.466667</td>\n",
       "      <td>2.0</td>\n",
       "      <td>19.0</td>\n",
       "      <td>NaN</td>\n",
       "    </tr>\n",
       "    <tr>\n",
       "      <th>3</th>\n",
       "      <td>0</td>\n",
       "      <td>14900</td>\n",
       "      <td>87167.0</td>\n",
       "      <td>114219.0</td>\n",
       "      <td>DebtCon</td>\n",
       "      <td>ProfExe</td>\n",
       "      <td>8.0</td>\n",
       "      <td>0.0</td>\n",
       "      <td>0.0</td>\n",
       "      <td>194.113174</td>\n",
       "      <td>2.0</td>\n",
       "      <td>36.0</td>\n",
       "      <td>41.329764</td>\n",
       "    </tr>\n",
       "    <tr>\n",
       "      <th>4</th>\n",
       "      <td>0</td>\n",
       "      <td>7200</td>\n",
       "      <td>98691.0</td>\n",
       "      <td>115750.0</td>\n",
       "      <td>HomeImp</td>\n",
       "      <td>Office</td>\n",
       "      <td>22.0</td>\n",
       "      <td>0.0</td>\n",
       "      <td>0.0</td>\n",
       "      <td>118.000142</td>\n",
       "      <td>0.0</td>\n",
       "      <td>11.0</td>\n",
       "      <td>37.720359</td>\n",
       "    </tr>\n",
       "  </tbody>\n",
       "</table>\n",
       "</div>"
      ],
      "text/plain": [
       "   BAD   LOAN  MORTDUE     VALUE   REASON      JOB   YOJ  DEROG  DELINQ  \\\n",
       "0    0  34400  97971.0  145124.0  DebtCon    Other  13.0    0.0     0.0   \n",
       "1    0  13600  89937.0  110986.0  DebtCon    Sales  14.0    NaN     2.0   \n",
       "2    1  10800  75000.0   87400.0  HomeImp    Other   7.0    1.0     0.0   \n",
       "3    0  14900  87167.0  114219.0  DebtCon  ProfExe   8.0    0.0     0.0   \n",
       "4    0   7200  98691.0  115750.0  HomeImp   Office  22.0    0.0     0.0   \n",
       "\n",
       "        CLAGE  NINQ  CLNO    DEBTINC  \n",
       "0   67.832042   1.0  36.0  40.402706  \n",
       "1  146.718742   1.0  17.0  33.747116  \n",
       "2  101.466667   2.0  19.0        NaN  \n",
       "3  194.113174   2.0  36.0  41.329764  \n",
       "4  118.000142   0.0  11.0  37.720359  "
      ]
     },
     "execution_count": 6,
     "metadata": {},
     "output_type": "execute_result"
    }
   ],
   "source": [
    "data_train.head(5)                    "
   ]
  },
  {
   "cell_type": "code",
   "execution_count": 7,
   "metadata": {},
   "outputs": [
    {
     "name": "stdout",
     "output_type": "stream",
     "text": [
      "<class 'pandas.core.frame.DataFrame'>\n",
      "RangeIndex: 4827 entries, 0 to 4826\n",
      "Data columns (total 13 columns):\n",
      " #   Column   Non-Null Count  Dtype  \n",
      "---  ------   --------------  -----  \n",
      " 0   BAD      4827 non-null   int64  \n",
      " 1   LOAN     4827 non-null   int64  \n",
      " 2   MORTDUE  4405 non-null   float64\n",
      " 3   VALUE    4738 non-null   float64\n",
      " 4   REASON   4618 non-null   object \n",
      " 5   JOB      4601 non-null   object \n",
      " 6   YOJ      4419 non-null   float64\n",
      " 7   DEROG    4262 non-null   float64\n",
      " 8   DELINQ   4362 non-null   float64\n",
      " 9   CLAGE    4578 non-null   float64\n",
      " 10  NINQ     4421 non-null   float64\n",
      " 11  CLNO     4651 non-null   float64\n",
      " 12  DEBTINC  3804 non-null   float64\n",
      "dtypes: float64(9), int64(2), object(2)\n",
      "memory usage: 490.4+ KB\n"
     ]
    }
   ],
   "source": [
    "data_train.info()"
   ]
  },
  {
   "cell_type": "code",
   "execution_count": 8,
   "metadata": {},
   "outputs": [
    {
     "data": {
      "text/html": [
       "<div>\n",
       "<style scoped>\n",
       "    .dataframe tbody tr th:only-of-type {\n",
       "        vertical-align: middle;\n",
       "    }\n",
       "\n",
       "    .dataframe tbody tr th {\n",
       "        vertical-align: top;\n",
       "    }\n",
       "\n",
       "    .dataframe thead th {\n",
       "        text-align: right;\n",
       "    }\n",
       "</style>\n",
       "<table border=\"1\" class=\"dataframe\">\n",
       "  <thead>\n",
       "    <tr style=\"text-align: right;\">\n",
       "      <th></th>\n",
       "      <th>count</th>\n",
       "      <th>mean</th>\n",
       "      <th>std</th>\n",
       "      <th>min</th>\n",
       "      <th>25%</th>\n",
       "      <th>50%</th>\n",
       "      <th>75%</th>\n",
       "      <th>max</th>\n",
       "    </tr>\n",
       "  </thead>\n",
       "  <tbody>\n",
       "    <tr>\n",
       "      <th>BAD</th>\n",
       "      <td>4827.0</td>\n",
       "      <td>0.198674</td>\n",
       "      <td>0.399043</td>\n",
       "      <td>0.000000</td>\n",
       "      <td>0.000000</td>\n",
       "      <td>0.000000</td>\n",
       "      <td>0.000000</td>\n",
       "      <td>1.000000</td>\n",
       "    </tr>\n",
       "    <tr>\n",
       "      <th>LOAN</th>\n",
       "      <td>4827.0</td>\n",
       "      <td>18617.112078</td>\n",
       "      <td>11231.974061</td>\n",
       "      <td>1100.000000</td>\n",
       "      <td>11100.000000</td>\n",
       "      <td>16300.000000</td>\n",
       "      <td>23300.000000</td>\n",
       "      <td>89900.000000</td>\n",
       "    </tr>\n",
       "    <tr>\n",
       "      <th>MORTDUE</th>\n",
       "      <td>4405.0</td>\n",
       "      <td>73796.339364</td>\n",
       "      <td>43741.460123</td>\n",
       "      <td>2063.000000</td>\n",
       "      <td>46884.000000</td>\n",
       "      <td>65206.000000</td>\n",
       "      <td>91491.000000</td>\n",
       "      <td>399412.000000</td>\n",
       "    </tr>\n",
       "    <tr>\n",
       "      <th>VALUE</th>\n",
       "      <td>4738.0</td>\n",
       "      <td>101633.021895</td>\n",
       "      <td>56564.609914</td>\n",
       "      <td>8000.000000</td>\n",
       "      <td>66260.250000</td>\n",
       "      <td>89407.500000</td>\n",
       "      <td>119732.500000</td>\n",
       "      <td>855909.000000</td>\n",
       "    </tr>\n",
       "    <tr>\n",
       "      <th>YOJ</th>\n",
       "      <td>4419.0</td>\n",
       "      <td>8.957377</td>\n",
       "      <td>7.604500</td>\n",
       "      <td>0.000000</td>\n",
       "      <td>3.000000</td>\n",
       "      <td>7.000000</td>\n",
       "      <td>13.000000</td>\n",
       "      <td>41.000000</td>\n",
       "    </tr>\n",
       "    <tr>\n",
       "      <th>DEROG</th>\n",
       "      <td>4262.0</td>\n",
       "      <td>0.244486</td>\n",
       "      <td>0.823733</td>\n",
       "      <td>0.000000</td>\n",
       "      <td>0.000000</td>\n",
       "      <td>0.000000</td>\n",
       "      <td>0.000000</td>\n",
       "      <td>10.000000</td>\n",
       "    </tr>\n",
       "    <tr>\n",
       "      <th>DELINQ</th>\n",
       "      <td>4362.0</td>\n",
       "      <td>0.446813</td>\n",
       "      <td>1.138853</td>\n",
       "      <td>0.000000</td>\n",
       "      <td>0.000000</td>\n",
       "      <td>0.000000</td>\n",
       "      <td>0.000000</td>\n",
       "      <td>15.000000</td>\n",
       "    </tr>\n",
       "    <tr>\n",
       "      <th>CLAGE</th>\n",
       "      <td>4578.0</td>\n",
       "      <td>179.902913</td>\n",
       "      <td>86.744368</td>\n",
       "      <td>0.000000</td>\n",
       "      <td>114.858318</td>\n",
       "      <td>173.497696</td>\n",
       "      <td>231.876088</td>\n",
       "      <td>1168.233561</td>\n",
       "    </tr>\n",
       "    <tr>\n",
       "      <th>NINQ</th>\n",
       "      <td>4421.0</td>\n",
       "      <td>1.199276</td>\n",
       "      <td>1.745287</td>\n",
       "      <td>0.000000</td>\n",
       "      <td>0.000000</td>\n",
       "      <td>1.000000</td>\n",
       "      <td>2.000000</td>\n",
       "      <td>17.000000</td>\n",
       "    </tr>\n",
       "    <tr>\n",
       "      <th>CLNO</th>\n",
       "      <td>4651.0</td>\n",
       "      <td>21.322081</td>\n",
       "      <td>10.111162</td>\n",
       "      <td>0.000000</td>\n",
       "      <td>15.000000</td>\n",
       "      <td>20.000000</td>\n",
       "      <td>26.000000</td>\n",
       "      <td>71.000000</td>\n",
       "    </tr>\n",
       "    <tr>\n",
       "      <th>DEBTINC</th>\n",
       "      <td>3804.0</td>\n",
       "      <td>33.768804</td>\n",
       "      <td>8.806656</td>\n",
       "      <td>0.524499</td>\n",
       "      <td>29.149239</td>\n",
       "      <td>34.818353</td>\n",
       "      <td>38.972750</td>\n",
       "      <td>203.312149</td>\n",
       "    </tr>\n",
       "  </tbody>\n",
       "</table>\n",
       "</div>"
      ],
      "text/plain": [
       "          count           mean           std          min           25%  \\\n",
       "BAD      4827.0       0.198674      0.399043     0.000000      0.000000   \n",
       "LOAN     4827.0   18617.112078  11231.974061  1100.000000  11100.000000   \n",
       "MORTDUE  4405.0   73796.339364  43741.460123  2063.000000  46884.000000   \n",
       "VALUE    4738.0  101633.021895  56564.609914  8000.000000  66260.250000   \n",
       "YOJ      4419.0       8.957377      7.604500     0.000000      3.000000   \n",
       "DEROG    4262.0       0.244486      0.823733     0.000000      0.000000   \n",
       "DELINQ   4362.0       0.446813      1.138853     0.000000      0.000000   \n",
       "CLAGE    4578.0     179.902913     86.744368     0.000000    114.858318   \n",
       "NINQ     4421.0       1.199276      1.745287     0.000000      0.000000   \n",
       "CLNO     4651.0      21.322081     10.111162     0.000000     15.000000   \n",
       "DEBTINC  3804.0      33.768804      8.806656     0.524499     29.149239   \n",
       "\n",
       "                  50%            75%            max  \n",
       "BAD          0.000000       0.000000       1.000000  \n",
       "LOAN     16300.000000   23300.000000   89900.000000  \n",
       "MORTDUE  65206.000000   91491.000000  399412.000000  \n",
       "VALUE    89407.500000  119732.500000  855909.000000  \n",
       "YOJ          7.000000      13.000000      41.000000  \n",
       "DEROG        0.000000       0.000000      10.000000  \n",
       "DELINQ       0.000000       0.000000      15.000000  \n",
       "CLAGE      173.497696     231.876088    1168.233561  \n",
       "NINQ         1.000000       2.000000      17.000000  \n",
       "CLNO        20.000000      26.000000      71.000000  \n",
       "DEBTINC     34.818353      38.972750     203.312149  "
      ]
     },
     "execution_count": 8,
     "metadata": {},
     "output_type": "execute_result"
    }
   ],
   "source": [
    "data_train.describe().transpose()"
   ]
  },
  {
   "cell_type": "code",
   "execution_count": 9,
   "metadata": {},
   "outputs": [
    {
     "name": "stdout",
     "output_type": "stream",
     "text": [
      "0    0.801326\n",
      "1    0.198674\n",
      "Name: BAD, dtype: float64\n"
     ]
    }
   ],
   "source": [
    "print(data_train['BAD'].value_counts()/data_train.shape[0])"
   ]
  },
  {
   "cell_type": "markdown",
   "metadata": {},
   "source": [
    "**Comment**: We notice that several variables (numerical and categorical) have missing values. The dataset is unbalanced."
   ]
  },
  {
   "cell_type": "markdown",
   "metadata": {},
   "source": [
    "---"
   ]
  },
  {
   "cell_type": "markdown",
   "metadata": {},
   "source": [
    "# 2. Data Ingestion\n",
    "\n",
    "In this section, I define the input_fn pipeline."
   ]
  },
  {
   "cell_type": "markdown",
   "metadata": {},
   "source": [
    "## Premises\n",
    "\n",
    "Based on documentation, when you import data in Tensorflow you need two elements:\n",
    "\n",
    "**1. input_fn**: specifies how data is converted to a tf.data.Dataset that feeds the input pipeline.\n",
    "\n",
    "**2. feature column**: a construct that indicates a feature's data type.\n",
    "\n",
    "In our case: \n",
    "\n",
    "- We notice that variables have missing. Then we need to impute them. \n",
    "\n",
    "- Also we need to normalize data. \n",
    "\n",
    "And because we want to use Tensorflow framework, we can implement data preprocessing and transformation operations in the TensorFlow model itself. In this way, **it becomes an integral part of the model when the model is exported and deployed for predictions.**\n",
    "\n",
    "TensorFlow transformations can be accomplished in one of the following ways:\n",
    "\n",
    "1. Extending your base feature_columns (using crossed_column, embedding_column, bucketized_column, and so on).\n",
    "\n",
    "2. Implementing all of the instance-level transformation logic in a function that you call in all three input functions: train_input_fn, eval_input_fn, and serving_input_fn.\n",
    "\n",
    "3. If you are creating custom estimators, putting the code in the model_fn function.\n",
    "\n",
    "Then, we have two approaches to inputs:\n",
    "\n",
    "**1. Inside the input_fn**\n",
    "\n",
    "**2. While creating feature_column**\n",
    "\n",
    "Personally I prefer \n",
    "\n",
    "1. Preprocess data in the input_fn \n",
    "\n",
    "2. Do feature engineering while creating feature_column.\n",
    "\n",
    "About **the Data preprocessing strategy of impute missings**, \n",
    "\n",
    "- numerical variables: impute with mean\n",
    "\n",
    "- categorical variables: create 'other' class\n",
    "\n",
    "About **Feature Engineering**, \n",
    "\n",
    "- define normalizer_fn to normalize numerical variables"
   ]
  },
  {
   "cell_type": "markdown",
   "metadata": {},
   "source": [
    "## Define input_fn to create tf.data.Dataset\n",
    "\n",
    "As quick start model we choose Estimator. And It expects their inputs to be formatted as a pair of objects:\n",
    "\n",
    "1. A dictionary in which the keys are feature names and the values are Tensors (or SparseTensors) containing the corresponding feature data\n",
    "2. A Tensor containing one or more labels"
   ]
  },
  {
   "cell_type": "code",
   "execution_count": 10,
   "metadata": {},
   "outputs": [],
   "source": [
    "TARGET = ['BAD']\n",
    "CATEGORICAL_VARIABLES = ['REASON', 'JOB']\n",
    "NUMERICAL_VARIABLES = ['LOAN', 'MORTDUE', 'VALUE', 'YOJ', 'DEROG', 'DELINQ', 'CLAGE', 'NINQ', 'CLNO', 'DEBTINC']"
   ]
  },
  {
   "cell_type": "code",
   "execution_count": 11,
   "metadata": {},
   "outputs": [],
   "source": [
    "def get_dataset(dataframe: pd.DataFrame, target: str, num_epochs=2, mode='eval', batch_size=5):\n",
    "    '''\n",
    "    Return input_fn function for TF data ingestion pipeline\n",
    "    :param dataframe: \n",
    "    :param target: \n",
    "    :param num_epochs: \n",
    "    :param mode: \n",
    "    :param batch_size: \n",
    "    :return: input_fn()\n",
    "    '''\n",
    "    def input_fn():\n",
    "        '''\n",
    "        Extract data from pd.DataFrame, Impute and enhance data, Load data in parallel\n",
    "        :return: \n",
    "        '''\n",
    "\n",
    "        # Extract\n",
    "        df = _set_categorical_type(dataframe)\n",
    "        df = _set_categorical_empty(df)\n",
    "        df = _set_numerical_type(df)\n",
    "        predictors = dict(df)\n",
    "        label = predictors.pop(target)\n",
    "        dataset = tf.data.Dataset.from_tensor_slices((predictors, label))\n",
    "\n",
    "        # Transform\n",
    "        dataset = dataset.map(_impute_missing_categorical)\n",
    "        dataset = dataset.map(_impute_missing_numerical)\n",
    "\n",
    "        if mode == 'train':\n",
    "            dataset = dataset.repeat(num_epochs)  # repeat the original dataset 3 times \n",
    "            dataset = dataset.shuffle(buffer_size=1000, seed=8)  # shuffle with a buffer of 1000 element\n",
    "\n",
    "        dataset = dataset.batch(5, drop_remainder=False)  # small batch size to print result\n",
    "\n",
    "        # Load\n",
    "        dataset = dataset.prefetch(1)  # It optimize training parallelizing batch loading over CPU and GPU\n",
    "        \n",
    "        return dataset\n",
    "\n",
    "    return input_fn"
   ]
  },
  {
   "cell_type": "code",
   "execution_count": 12,
   "metadata": {},
   "outputs": [],
   "source": [
    "# Load small batch to get example and go on with preprocessing\n",
    "train_input_fn = get_dataset(data_train, 'BAD', mode='train', batch_size=5)\n",
    "test_input_fn = get_dataset(data_test, 'BAD', batch_size=5)\n",
    "eval_input_fn = get_dataset(data_val, 'BAD', batch_size=5)"
   ]
  },
  {
   "cell_type": "code",
   "execution_count": 13,
   "metadata": {},
   "outputs": [
    {
     "name": "stdout",
     "output_type": "stream",
     "text": [
      "Feature keys: ['LOAN', 'MORTDUE', 'VALUE', 'REASON', 'JOB', 'YOJ', 'DEROG', 'DELINQ', 'CLAGE', 'NINQ', 'CLNO', 'DEBTINC']\n",
      "A batch of REASON: [b'DebtCon' b'DebtCon' b'DebtCon' b'DebtCon' b'DebtCon']\n",
      "A batch of Labels: [0 0 0 0 0]\n"
     ]
    }
   ],
   "source": [
    "# Print a batch example\n",
    "for feature_batch, label_batch in train_input_fn().take(1):\n",
    "    print('Feature keys:', list(feature_batch.keys()))\n",
    "    print('A batch of REASON:', feature_batch['REASON'].numpy())\n",
    "    print('A batch of Labels:', label_batch.numpy())"
   ]
  },
  {
   "cell_type": "markdown",
   "metadata": {},
   "source": [
    "---"
   ]
  },
  {
   "cell_type": "markdown",
   "metadata": {},
   "source": [
    "# 3. Feature Engineering (Preprocessing)\n",
    "\n",
    "In this section, I implemented feature engineering as Tensorflow Framework requires."
   ]
  },
  {
   "cell_type": "markdown",
   "metadata": {},
   "source": [
    "## Define features and configures feature_columns\n",
    "\n",
    "In order to import our training data into TensorFlow, we need to specify what type of data each feature contains. \n",
    "\n",
    "In our case, we have:\n",
    "\n",
    "1. **Categorical Data**: 'REASON', 'JOB'\n",
    "\n",
    "2. **Numerical Data**: 'LOAN', 'MORTDUE', 'VALUE', 'YOJ', 'DEROG', 'DELINQ', 'CLAGE', 'NINQ', 'CLNO', 'DEBTINC'\n",
    "\n",
    "In TensorFlow, we indicate a feature's data type using a construct called a **feature column**.\n",
    "\n",
    "Feature columns store only a description of the feature data; they do not contain the feature data itself.\n",
    "\n",
    "**Notice**: So far we mentioned that we can extend their functionalies in order to apply prepocessing transformations. That's what we are going to do: \n",
    "\n",
    "1. Normalize Numerical variables with normalizer_fn\n",
    "\n",
    "2. OneHot encoding with tf.feature_column.categorical_column_with_vocabulary_list"
   ]
  },
  {
   "cell_type": "code",
   "execution_count": 14,
   "metadata": {},
   "outputs": [],
   "source": [
    "def get_features(num_features: list, cat_features: list, labels_dict: dict) -> list:\n",
    "    '''\n",
    "    Return a list of tf feature columns\n",
    "    :param num_features: \n",
    "    :param cat_features: \n",
    "    :param labels_dict: \n",
    "    :return: feature_columns\n",
    "    '''\n",
    "    # Create an empty list for feature\n",
    "    feature_columns = []\n",
    "\n",
    "    # Get numerical features\n",
    "    normalize_parameters = _get_normalization_parameters(num_features)\n",
    "    for col_name in num_features:\n",
    "        mean = normalize_parameters[col_name]['mean']\n",
    "        std = normalize_parameters[col_name]['std']\n",
    "        normalizer_fn = functools.partial(normalizer, mean=mean, std=std)\n",
    "        num_feature = tf.feature_column.numeric_column(col_name, dtype=tf.float32, normalizer_fn=normalizer_fn)\n",
    "        feature_columns.append(num_feature)\n",
    "\n",
    "    # Get categorical features\n",
    "    for col_name in cat_features:\n",
    "        cat_feature = tf.feature_column.categorical_column_with_vocabulary_list(col_name, labels_dict[col_name])\n",
    "        indicator_column = tf.feature_column.indicator_column(cat_feature)\n",
    "        feature_columns.append(indicator_column)\n",
    "\n",
    "    return feature_columns"
   ]
  },
  {
   "cell_type": "code",
   "execution_count": 15,
   "metadata": {},
   "outputs": [],
   "source": [
    "# Create the tf.data.dataset and an iterator to check transformations\n",
    "train_dataset = train_input_fn()            \n",
    "example_batch = next(iter(train_dataset))[0]\n",
    "\n",
    "labels_dict= {'REASON': ['DebtCon', 'HomeImp', 'Missing'],\n",
    "              'JOB' : ['Other', 'Sales', 'ProfExe', 'Office', 'Mgr', 'Self', 'Missing']}\n",
    "feature_columns = get_features(NUMERICAL_VARIABLES, CATEGORICAL_VARIABLES, labels_dict)"
   ]
  },
  {
   "cell_type": "code",
   "execution_count": 16,
   "metadata": {},
   "outputs": [
    {
     "data": {
      "text/plain": [
       "[NumericColumn(key='LOAN', shape=(1,), default_value=None, dtype=tf.float32, normalizer_fn=functools.partial(<function normalizer at 0x7f49fbd465e0>, mean=18617.112077895174, std=11231.974060952927)),\n",
       " NumericColumn(key='YOJ', shape=(1,), default_value=None, dtype=tf.float32, normalizer_fn=functools.partial(<function normalizer at 0x7f49fbd465e0>, mean=8.957377234668478, std=7.60449983387714)),\n",
       " NumericColumn(key='CLAGE', shape=(1,), default_value=None, dtype=tf.float32, normalizer_fn=functools.partial(<function normalizer at 0x7f49fbd465e0>, mean=179.90291295790095, std=86.74436793774018)),\n",
       " NumericColumn(key='DEBTINC', shape=(1,), default_value=None, dtype=tf.float32, normalizer_fn=functools.partial(<function normalizer at 0x7f49fbd465e0>, mean=33.76880402048964, std=8.806655753842648))]"
      ]
     },
     "execution_count": 16,
     "metadata": {},
     "output_type": "execute_result"
    }
   ],
   "source": [
    "feature_columns[::3]"
   ]
  },
  {
   "cell_type": "code",
   "execution_count": 17,
   "metadata": {},
   "outputs": [
    {
     "name": "stdout",
     "output_type": "stream",
     "text": [
      "WARNING:tensorflow:Layer dense_features is casting an input tensor from dtype float64 to the layer's dtype of float32, which is new behavior in TensorFlow 2.  The layer has dtype float32 because its dtype defaults to floatx.\n",
      "\n",
      "If you intended to run this layer in float32, you can safely ignore this warning. If in doubt, this warning is likely only an issue if you are porting a TensorFlow 1.X model to TensorFlow 2.\n",
      "\n",
      "To change all layers to have dtype float64 by default, call `tf.keras.backend.set_floatx('float64')`. To change just this layer, pass dtype='float64' to the layer constructor. If you are the author of this layer, you can disable autocasting by passing autocast=False to the base Layer constructor.\n",
      "\n",
      "[[ 0.80866367]\n",
      " [-0.97196734]\n",
      " [ 0.03408917]\n",
      " [ 1.2805308 ]\n",
      " [-0.3309402 ]]\n"
     ]
    }
   ],
   "source": [
    "check_feature(feature_columns[0])"
   ]
  },
  {
   "cell_type": "code",
   "execution_count": 18,
   "metadata": {},
   "outputs": [
    {
     "name": "stdout",
     "output_type": "stream",
     "text": [
      "WARNING:tensorflow:Layer dense_features_1 is casting an input tensor from dtype float64 to the layer's dtype of float32, which is new behavior in TensorFlow 2.  The layer has dtype float32 because its dtype defaults to floatx.\n",
      "\n",
      "If you intended to run this layer in float32, you can safely ignore this warning. If in doubt, this warning is likely only an issue if you are porting a TensorFlow 1.X model to TensorFlow 2.\n",
      "\n",
      "To change all layers to have dtype float64 by default, call `tf.keras.backend.set_floatx('float64')`. To change just this layer, pass dtype='float64' to the layer constructor. If you are the author of this layer, you can disable autocasting by passing autocast=False to the base Layer constructor.\n",
      "\n",
      "[[1. 0. 0. 0. 0. 0. 0.]\n",
      " [0. 0. 0. 1. 0. 0. 0.]\n",
      " [1. 0. 0. 0. 0. 0. 0.]\n",
      " [1. 0. 0. 0. 0. 0. 0.]\n",
      " [1. 0. 0. 0. 0. 0. 0.]]\n"
     ]
    }
   ],
   "source": [
    "check_feature(feature_columns[-1])"
   ]
  },
  {
   "cell_type": "markdown",
   "metadata": {},
   "source": [
    "---"
   ]
  },
  {
   "cell_type": "markdown",
   "metadata": {},
   "source": [
    "# 4. Model Experiments (Training)\n",
    "\n",
    "In this section, I train different models to get the Champion.\n",
    "\n",
    "In particular, \n",
    "\n",
    "    a. Model A: pre-made Estimator - LinearClassifier\n",
    "    b. Model B: pre-made Estimator - BoostedTreesClassifier\n",
    "    \n",
    "In this way, I can compare both model based on TF API and model based on my business knowledge.\n",
    "    \n",
    "**Notice**: Dataset is heavly inbalanced. Because it is a plain vanilla example I'm not going to deal with that."
   ]
  },
  {
   "cell_type": "markdown",
   "metadata": {},
   "source": [
    "## Model A: pre-made Estimator"
   ]
  },
  {
   "cell_type": "markdown",
   "metadata": {},
   "source": [
    "### Build the pre-made Estimator"
   ]
  },
  {
   "cell_type": "code",
   "execution_count": 96,
   "metadata": {},
   "outputs": [],
   "source": [
    "def build_estimator(feature_columns, learning_rate=0.1):\n",
    "    \"\"\"\n",
    "     Build an estimator.\n",
    "    \"\"\"\n",
    "    feature_layer = tf.keras.layers.DenseFeatures(feature_columns, dtype='float32')\n",
    "    \n",
    "    runconfig = tf.estimator.RunConfig(tf_random_seed=8)\n",
    "    \n",
    "    linear_classifier_base = tf.estimator.LinearClassifier(\n",
    "    model_dir=LOG_DIR, \n",
    "    feature_columns=feature_columns,\n",
    "    n_classes=2,\n",
    "    optimizer=tf.keras.optimizers.SGD(learning_rate=learning_rate),\n",
    "    )\n",
    "    \n",
    "    return linear_classifier_base"
   ]
  },
  {
   "cell_type": "code",
   "execution_count": 97,
   "metadata": {},
   "outputs": [
    {
     "name": "stdout",
     "output_type": "stream",
     "text": [
      "INFO:tensorflow:Using default config.\n",
      "INFO:tensorflow:Using config: {'_model_dir': '/home/jovyan/work/notebooks/../logs', '_tf_random_seed': None, '_save_summary_steps': 100, '_save_checkpoints_steps': None, '_save_checkpoints_secs': 600, '_session_config': allow_soft_placement: true\n",
      "graph_options {\n",
      "  rewrite_options {\n",
      "    meta_optimizer_iterations: ONE\n",
      "  }\n",
      "}\n",
      ", '_keep_checkpoint_max': 5, '_keep_checkpoint_every_n_hours': 10000, '_log_step_count_steps': 100, '_train_distribute': None, '_device_fn': None, '_protocol': None, '_eval_distribute': None, '_experimental_distribute': None, '_experimental_max_worker_delay_secs': None, '_session_creation_timeout_secs': 7200, '_service': None, '_cluster_spec': ClusterSpec({}), '_task_type': 'worker', '_task_id': 0, '_global_id_in_cluster': 0, '_master': '', '_evaluation_master': '', '_is_chief': True, '_num_ps_replicas': 0, '_num_worker_replicas': 1}\n"
     ]
    }
   ],
   "source": [
    "estimator = build_estimator(feature_columns)"
   ]
  },
  {
   "cell_type": "markdown",
   "metadata": {},
   "source": [
    "### Train pre-made Estimator"
   ]
  },
  {
   "cell_type": "code",
   "execution_count": 98,
   "metadata": {},
   "outputs": [],
   "source": [
    "def train_and_evaluate():\n",
    "    '''Remember to parametrize'''\n",
    "    # Get dataset\n",
    "    train_input_fn = get_dataset(data_train, 'BAD', batch_size=500, mode='train')\n",
    "    test_input_fn = get_dataset(data_test, 'BAD', batch_size=500)\n",
    "    # Get Features\n",
    "    feature_columns = get_features(NUMERICAL_VARIABLES, CATEGORICAL_VARIABLES, labels_dict)\n",
    "    #Clean all\n",
    "    shutil.rmtree(LOG_DIR, ignore_errors = True) \n",
    "    # Get estimator\n",
    "    estimator = build_estimator(feature_columns)\n",
    "    # Train the estimator\n",
    "    estimator_train = estimator.train(input_fn=train_input_fn)\n",
    "    # Evaluate \n",
    "    metrics = estimator_train.evaluate(input_fn=test_input_fn)\n",
    "    return estimator_train, metrics"
   ]
  },
  {
   "cell_type": "code",
   "execution_count": 99,
   "metadata": {},
   "outputs": [
    {
     "name": "stdout",
     "output_type": "stream",
     "text": [
      "INFO:tensorflow:Using default config.\n",
      "INFO:tensorflow:Using config: {'_model_dir': '/home/jovyan/work/notebooks/../logs', '_tf_random_seed': None, '_save_summary_steps': 100, '_save_checkpoints_steps': None, '_save_checkpoints_secs': 600, '_session_config': allow_soft_placement: true\n",
      "graph_options {\n",
      "  rewrite_options {\n",
      "    meta_optimizer_iterations: ONE\n",
      "  }\n",
      "}\n",
      ", '_keep_checkpoint_max': 5, '_keep_checkpoint_every_n_hours': 10000, '_log_step_count_steps': 100, '_train_distribute': None, '_device_fn': None, '_protocol': None, '_eval_distribute': None, '_experimental_distribute': None, '_experimental_max_worker_delay_secs': None, '_session_creation_timeout_secs': 7200, '_service': None, '_cluster_spec': ClusterSpec({}), '_task_type': 'worker', '_task_id': 0, '_global_id_in_cluster': 0, '_master': '', '_evaluation_master': '', '_is_chief': True, '_num_ps_replicas': 0, '_num_worker_replicas': 1}\n",
      "INFO:tensorflow:Calling model_fn.\n",
      "WARNING:tensorflow:Layer linear/linear_model is casting an input tensor from dtype float64 to the layer's dtype of float32, which is new behavior in TensorFlow 2.  The layer has dtype float32 because its dtype defaults to floatx.\n",
      "\n",
      "If you intended to run this layer in float32, you can safely ignore this warning. If in doubt, this warning is likely only an issue if you are porting a TensorFlow 1.X model to TensorFlow 2.\n",
      "\n",
      "To change all layers to have dtype float64 by default, call `tf.keras.backend.set_floatx('float64')`. To change just this layer, pass dtype='float64' to the layer constructor. If you are the author of this layer, you can disable autocasting by passing autocast=False to the base Layer constructor.\n",
      "\n",
      "INFO:tensorflow:Done calling model_fn.\n",
      "INFO:tensorflow:Create CheckpointSaverHook.\n",
      "INFO:tensorflow:Graph was finalized.\n",
      "INFO:tensorflow:Running local_init_op.\n",
      "INFO:tensorflow:Done running local_init_op.\n",
      "INFO:tensorflow:Calling checkpoint listeners before saving checkpoint 0...\n",
      "INFO:tensorflow:Saving checkpoints for 0 into /home/jovyan/work/notebooks/../logs/model.ckpt.\n",
      "INFO:tensorflow:Calling checkpoint listeners after saving checkpoint 0...\n",
      "INFO:tensorflow:loss = 0.6931472, step = 0\n",
      "INFO:tensorflow:global_step/sec: 493.172\n",
      "INFO:tensorflow:loss = 0.6652381, step = 100 (0.204 sec)\n",
      "INFO:tensorflow:global_step/sec: 1058.71\n",
      "INFO:tensorflow:loss = 0.5125019, step = 200 (0.094 sec)\n",
      "INFO:tensorflow:global_step/sec: 1077.36\n",
      "INFO:tensorflow:loss = 0.5128697, step = 300 (0.093 sec)\n",
      "INFO:tensorflow:global_step/sec: 1091.81\n",
      "INFO:tensorflow:loss = 0.11401621, step = 400 (0.092 sec)\n",
      "INFO:tensorflow:global_step/sec: 1094.63\n",
      "INFO:tensorflow:loss = 0.25578195, step = 500 (0.091 sec)\n",
      "INFO:tensorflow:global_step/sec: 1091.16\n",
      "INFO:tensorflow:loss = 0.51216614, step = 600 (0.092 sec)\n",
      "INFO:tensorflow:global_step/sec: 1082.37\n",
      "INFO:tensorflow:loss = 0.2396348, step = 700 (0.092 sec)\n",
      "INFO:tensorflow:global_step/sec: 1089.24\n",
      "INFO:tensorflow:loss = 0.65504545, step = 800 (0.092 sec)\n",
      "INFO:tensorflow:global_step/sec: 1070.24\n",
      "INFO:tensorflow:loss = 0.8234046, step = 900 (0.093 sec)\n",
      "INFO:tensorflow:global_step/sec: 1092.18\n",
      "INFO:tensorflow:loss = 0.31363207, step = 1000 (0.092 sec)\n",
      "INFO:tensorflow:global_step/sec: 1070.95\n",
      "INFO:tensorflow:loss = 0.4539342, step = 1100 (0.093 sec)\n",
      "INFO:tensorflow:global_step/sec: 1089.12\n",
      "INFO:tensorflow:loss = 0.52623683, step = 1200 (0.093 sec)\n",
      "INFO:tensorflow:global_step/sec: 1079.81\n",
      "INFO:tensorflow:loss = 1.2172668, step = 1300 (0.092 sec)\n",
      "INFO:tensorflow:global_step/sec: 1070.29\n",
      "INFO:tensorflow:loss = 0.20979635, step = 1400 (0.094 sec)\n",
      "INFO:tensorflow:global_step/sec: 1087.11\n",
      "INFO:tensorflow:loss = 0.11008479, step = 1500 (0.092 sec)\n",
      "INFO:tensorflow:global_step/sec: 1092.18\n",
      "INFO:tensorflow:loss = 0.20172398, step = 1600 (0.092 sec)\n",
      "INFO:tensorflow:global_step/sec: 1084.16\n",
      "INFO:tensorflow:loss = 0.5617612, step = 1700 (0.092 sec)\n",
      "INFO:tensorflow:global_step/sec: 1092.27\n",
      "INFO:tensorflow:loss = 0.4293333, step = 1800 (0.092 sec)\n",
      "INFO:tensorflow:global_step/sec: 1128.08\n",
      "INFO:tensorflow:loss = 0.44076663, step = 1900 (0.089 sec)\n",
      "INFO:tensorflow:Calling checkpoint listeners before saving checkpoint 1931...\n",
      "INFO:tensorflow:Saving checkpoints for 1931 into /home/jovyan/work/notebooks/../logs/model.ckpt.\n",
      "INFO:tensorflow:Calling checkpoint listeners after saving checkpoint 1931...\n",
      "INFO:tensorflow:Loss for final step: 0.20425636.\n",
      "INFO:tensorflow:Calling model_fn.\n",
      "WARNING:tensorflow:Layer linear/linear_model is casting an input tensor from dtype float64 to the layer's dtype of float32, which is new behavior in TensorFlow 2.  The layer has dtype float32 because its dtype defaults to floatx.\n",
      "\n",
      "If you intended to run this layer in float32, you can safely ignore this warning. If in doubt, this warning is likely only an issue if you are porting a TensorFlow 1.X model to TensorFlow 2.\n",
      "\n",
      "To change all layers to have dtype float64 by default, call `tf.keras.backend.set_floatx('float64')`. To change just this layer, pass dtype='float64' to the layer constructor. If you are the author of this layer, you can disable autocasting by passing autocast=False to the base Layer constructor.\n",
      "\n",
      "INFO:tensorflow:Done calling model_fn.\n",
      "INFO:tensorflow:Starting evaluation at 2020-09-27T16:45:07Z\n",
      "INFO:tensorflow:Graph was finalized.\n",
      "INFO:tensorflow:Restoring parameters from /home/jovyan/work/notebooks/../logs/model.ckpt-1931\n",
      "INFO:tensorflow:Running local_init_op.\n",
      "INFO:tensorflow:Done running local_init_op.\n",
      "INFO:tensorflow:Inference Time : 0.84840s\n",
      "INFO:tensorflow:Finished evaluation at 2020-09-27-16:45:07\n",
      "INFO:tensorflow:Saving dict for global step 1931: accuracy = 0.8607383, accuracy_baseline = 0.81543624, auc = 0.80670595, auc_precision_recall = 0.5880791, average_loss = 0.36542156, global_step = 1931, label/mean = 0.18456376, loss = 0.36768612, precision = 0.8648649, prediction/mean = 0.1781038, recall = 0.29090908\n",
      "INFO:tensorflow:Saving 'checkpoint_path' summary for global step 1931: /home/jovyan/work/notebooks/../logs/model.ckpt-1931\n"
     ]
    }
   ],
   "source": [
    "model, metrics = train_and_evaluate()"
   ]
  },
  {
   "cell_type": "markdown",
   "metadata": {},
   "source": [
    "### Evaluate pre-made Estimator"
   ]
  },
  {
   "cell_type": "code",
   "execution_count": 100,
   "metadata": {},
   "outputs": [
    {
     "name": "stdout",
     "output_type": "stream",
     "text": [
      "INFO:tensorflow:Calling model_fn.\n",
      "WARNING:tensorflow:Layer linear/linear_model is casting an input tensor from dtype float64 to the layer's dtype of float32, which is new behavior in TensorFlow 2.  The layer has dtype float32 because its dtype defaults to floatx.\n",
      "\n",
      "If you intended to run this layer in float32, you can safely ignore this warning. If in doubt, this warning is likely only an issue if you are porting a TensorFlow 1.X model to TensorFlow 2.\n",
      "\n",
      "To change all layers to have dtype float64 by default, call `tf.keras.backend.set_floatx('float64')`. To change just this layer, pass dtype='float64' to the layer constructor. If you are the author of this layer, you can disable autocasting by passing autocast=False to the base Layer constructor.\n",
      "\n",
      "INFO:tensorflow:Done calling model_fn.\n",
      "INFO:tensorflow:Graph was finalized.\n",
      "INFO:tensorflow:Restoring parameters from /home/jovyan/work/notebooks/../logs/model.ckpt-1931\n",
      "INFO:tensorflow:Running local_init_op.\n",
      "INFO:tensorflow:Done running local_init_op.\n"
     ]
    }
   ],
   "source": [
    "predictions_dictionary = list(model.predict(test_input_fn))\n",
    "predictions = pd.Series([pred['class_ids'] for pred in predictions_dictionary])"
   ]
  },
  {
   "cell_type": "code",
   "execution_count": 101,
   "metadata": {},
   "outputs": [
    {
     "data": {
      "image/png": "[encoded data removed]",
      "text/plain": [
       "<Figure size 864x720 with 3 Axes>"
      ]
     },
     "metadata": {
      "needs_background": "light"
     },
     "output_type": "display_data"
    }
   ],
   "source": [
    "test_labels = data_test['BAD']\n",
    "plot_metrics(\"Test sample\", test_labels, predictions, p=0.5)"
   ]
  },
  {
   "cell_type": "code",
   "execution_count": 102,
   "metadata": {},
   "outputs": [
    {
     "name": "stdout",
     "output_type": "stream",
     "text": [
      "Correlation matrix info\n",
      "True Negatives - No default loans that pay 481\n",
      "False Positives - No default loans that dont pay 5\n",
      "False Negatives - Default loans that pay 78\n",
      "True Positives: - Default loans that dont pay 32\n",
      "Total Defauts:  110\n",
      "\n",
      "--------------------\n",
      "\n",
      "Evalutation Metrics\n",
      "accuracy : 0.8607383\n",
      "accuracy_baseline : 0.81543624\n",
      "auc : 0.80670595\n",
      "auc_precision_recall : 0.5880791\n",
      "average_loss : 0.36542156\n",
      "label/mean : 0.18456376\n",
      "loss : 0.36768612\n",
      "precision : 0.8648649\n",
      "prediction/mean : 0.1781038\n",
      "recall : 0.29090908\n",
      "global_step : 1931\n"
     ]
    }
   ],
   "source": [
    "print_metrics(calculate_correlation_matrix(test_labels, predictions), metrics)"
   ]
  },
  {
   "cell_type": "markdown",
   "metadata": {},
   "source": [
    "## Model B: pre-made Estimator - BoostedTreesClassifier"
   ]
  },
  {
   "cell_type": "markdown",
   "metadata": {},
   "source": [
    "### Build the pre-made Estimator"
   ]
  },
  {
   "cell_type": "code",
   "execution_count": 110,
   "metadata": {},
   "outputs": [],
   "source": [
    "BATCH_LAYER = 29\n",
    "def build_estimator(feature_columns, learning_rate=0.1):\n",
    "    \"\"\"\n",
    "     Build an estimator.\n",
    "    \"\"\"\n",
    "    feature_layer = tf.keras.layers.DenseFeatures(feature_columns, dtype='float32')\n",
    "    \n",
    "    runconfig = tf.estimator.RunConfig(tf_random_seed=8)\n",
    "    \n",
    "    boosted_trees_classifier = tf.estimator.BoostedTreesClassifier(\n",
    "    model_dir=LOG_DIR,\n",
    "    feature_columns=feature_columns,\n",
    "    n_classes=2,\n",
    "    n_batches_per_layer=BATCH_LAYER,\n",
    "    learning_rate=learning_rate\n",
    "    )\n",
    "    \n",
    "    return boosted_trees_classifier"
   ]
  },
  {
   "cell_type": "code",
   "execution_count": 111,
   "metadata": {},
   "outputs": [
    {
     "name": "stdout",
     "output_type": "stream",
     "text": [
      "INFO:tensorflow:Using default config.\n",
      "INFO:tensorflow:Using config: {'_model_dir': '/home/jovyan/work/notebooks/../logs', '_tf_random_seed': None, '_save_summary_steps': 100, '_save_checkpoints_steps': None, '_save_checkpoints_secs': 600, '_session_config': allow_soft_placement: true\n",
      "graph_options {\n",
      "  rewrite_options {\n",
      "    meta_optimizer_iterations: ONE\n",
      "  }\n",
      "}\n",
      ", '_keep_checkpoint_max': 5, '_keep_checkpoint_every_n_hours': 10000, '_log_step_count_steps': 100, '_train_distribute': None, '_device_fn': None, '_protocol': None, '_eval_distribute': None, '_experimental_distribute': None, '_experimental_max_worker_delay_secs': None, '_session_creation_timeout_secs': 7200, '_service': None, '_cluster_spec': ClusterSpec({}), '_task_type': 'worker', '_task_id': 0, '_global_id_in_cluster': 0, '_master': '', '_evaluation_master': '', '_is_chief': True, '_num_ps_replicas': 0, '_num_worker_replicas': 1}\n"
     ]
    }
   ],
   "source": [
    "estimator = build_estimator(feature_columns)"
   ]
  },
  {
   "cell_type": "markdown",
   "metadata": {},
   "source": [
    "### Train pre-made Estimator"
   ]
  },
  {
   "cell_type": "code",
   "execution_count": 112,
   "metadata": {},
   "outputs": [],
   "source": [
    "def train_and_evaluate():\n",
    "    '''Remember to parametrize'''\n",
    "    # Get dataset\n",
    "    train_input_fn = get_dataset(data_train, 'BAD', batch_size=500, mode='train')\n",
    "    test_input_fn = get_dataset(data_test, 'BAD', batch_size=500)\n",
    "    # Get Features\n",
    "    feature_columns = get_features(NUMERICAL_VARIABLES, CATEGORICAL_VARIABLES, labels_dict)\n",
    "    #Clean all\n",
    "    shutil.rmtree(LOG_DIR, ignore_errors = True) \n",
    "    # Get estimator\n",
    "    estimator = build_estimator(feature_columns)\n",
    "    # Train the estimator\n",
    "    estimator_train = estimator.train(input_fn=train_input_fn)\n",
    "    # Evaluate \n",
    "    metrics = estimator_train.evaluate(input_fn=test_input_fn)\n",
    "    return estimator_train, metrics"
   ]
  },
  {
   "cell_type": "code",
   "execution_count": 113,
   "metadata": {},
   "outputs": [
    {
     "name": "stdout",
     "output_type": "stream",
     "text": [
      "INFO:tensorflow:Using default config.\n",
      "INFO:tensorflow:Using config: {'_model_dir': '/home/jovyan/work/notebooks/../logs', '_tf_random_seed': None, '_save_summary_steps': 100, '_save_checkpoints_steps': None, '_save_checkpoints_secs': 600, '_session_config': allow_soft_placement: true\n",
      "graph_options {\n",
      "  rewrite_options {\n",
      "    meta_optimizer_iterations: ONE\n",
      "  }\n",
      "}\n",
      ", '_keep_checkpoint_max': 5, '_keep_checkpoint_every_n_hours': 10000, '_log_step_count_steps': 100, '_train_distribute': None, '_device_fn': None, '_protocol': None, '_eval_distribute': None, '_experimental_distribute': None, '_experimental_max_worker_delay_secs': None, '_session_creation_timeout_secs': 7200, '_service': None, '_cluster_spec': ClusterSpec({}), '_task_type': 'worker', '_task_id': 0, '_global_id_in_cluster': 0, '_master': '', '_evaluation_master': '', '_is_chief': True, '_num_ps_replicas': 0, '_num_worker_replicas': 1}\n",
      "INFO:tensorflow:Calling model_fn.\n",
      "INFO:tensorflow:Done calling model_fn.\n",
      "INFO:tensorflow:Create CheckpointSaverHook.\n",
      "INFO:tensorflow:Graph was finalized.\n",
      "INFO:tensorflow:Running local_init_op.\n",
      "INFO:tensorflow:Done running local_init_op.\n",
      "WARNING:tensorflow:Issue encountered when serializing resources.\n",
      "Type is unsupported, or the types of the items don't match field type in CollectionDef. Note this is a warning and probably safe to ignore.\n",
      "'_Resource' object has no attribute 'name'\n",
      "INFO:tensorflow:Calling checkpoint listeners before saving checkpoint 0...\n",
      "INFO:tensorflow:Saving checkpoints for 0 into /home/jovyan/work/notebooks/../logs/model.ckpt.\n",
      "WARNING:tensorflow:Issue encountered when serializing resources.\n",
      "Type is unsupported, or the types of the items don't match field type in CollectionDef. Note this is a warning and probably safe to ignore.\n",
      "'_Resource' object has no attribute 'name'\n",
      "INFO:tensorflow:Calling checkpoint listeners after saving checkpoint 0...\n",
      "INFO:tensorflow:loss = 0.6931472, step = 0\n",
      "INFO:tensorflow:loss = 0.6596848, step = 71 (0.418 sec)\n",
      "INFO:tensorflow:global_step/sec: 165.169\n",
      "INFO:tensorflow:loss = 0.45448762, step = 171 (0.295 sec)\n",
      "INFO:tensorflow:global_step/sec: 624.992\n",
      "INFO:tensorflow:loss = 0.49935895, step = 271 (0.152 sec)\n",
      "INFO:tensorflow:global_step/sec: 703.455\n",
      "INFO:tensorflow:loss = 0.299179, step = 371 (0.159 sec)\n",
      "INFO:tensorflow:global_step/sec: 645.62\n",
      "INFO:tensorflow:loss = 0.23995385, step = 471 (0.140 sec)\n",
      "INFO:tensorflow:global_step/sec: 687.065\n",
      "INFO:tensorflow:loss = 0.50847155, step = 571 (0.154 sec)\n",
      "INFO:tensorflow:global_step/sec: 666.625\n",
      "INFO:tensorflow:loss = 0.42584476, step = 671 (0.146 sec)\n",
      "INFO:tensorflow:global_step/sec: 626.162\n",
      "INFO:tensorflow:loss = 0.31516427, step = 771 (0.150 sec)\n",
      "INFO:tensorflow:global_step/sec: 734.418\n",
      "INFO:tensorflow:loss = 0.34007776, step = 871 (0.160 sec)\n",
      "INFO:tensorflow:global_step/sec: 618.146\n",
      "INFO:tensorflow:loss = 0.17766203, step = 971 (0.141 sec)\n",
      "INFO:tensorflow:global_step/sec: 699.991\n",
      "INFO:tensorflow:loss = 0.5490893, step = 1071 (0.161 sec)\n",
      "INFO:tensorflow:global_step/sec: 637.094\n",
      "INFO:tensorflow:loss = 0.19279858, step = 1171 (0.142 sec)\n",
      "INFO:tensorflow:global_step/sec: 664.973\n",
      "INFO:tensorflow:loss = 0.3935296, step = 1271 (0.160 sec)\n",
      "INFO:tensorflow:global_step/sec: 657.675\n",
      "INFO:tensorflow:loss = 0.32558256, step = 1371 (0.151 sec)\n",
      "INFO:tensorflow:global_step/sec: 607.921\n",
      "INFO:tensorflow:loss = 0.16458483, step = 1471 (0.153 sec)\n",
      "INFO:tensorflow:global_step/sec: 717.049\n",
      "INFO:tensorflow:loss = 0.29231328, step = 1571 (0.161 sec)\n",
      "INFO:tensorflow:global_step/sec: 624.817\n",
      "INFO:tensorflow:loss = 0.50892556, step = 1671 (0.137 sec)\n",
      "INFO:tensorflow:global_step/sec: 720.418\n",
      "INFO:tensorflow:loss = 0.18329364, step = 1771 (0.156 sec)\n",
      "INFO:tensorflow:global_step/sec: 646.935\n",
      "INFO:tensorflow:loss = 0.33765674, step = 1871 (0.138 sec)\n",
      "INFO:tensorflow:global_step/sec: 692.232\n",
      "INFO:tensorflow:Calling checkpoint listeners before saving checkpoint 1902...\n",
      "INFO:tensorflow:Saving checkpoints for 1902 into /home/jovyan/work/notebooks/../logs/model.ckpt.\n",
      "WARNING:tensorflow:Issue encountered when serializing resources.\n",
      "Type is unsupported, or the types of the items don't match field type in CollectionDef. Note this is a warning and probably safe to ignore.\n",
      "'_Resource' object has no attribute 'name'\n",
      "INFO:tensorflow:Calling checkpoint listeners after saving checkpoint 1902...\n",
      "INFO:tensorflow:Loss for final step: 0.06484851.\n",
      "INFO:tensorflow:Calling model_fn.\n",
      "WARNING:tensorflow:Trapezoidal rule is known to produce incorrect PR-AUCs; please switch to \"careful_interpolation\" instead.\n",
      "WARNING:tensorflow:Trapezoidal rule is known to produce incorrect PR-AUCs; please switch to \"careful_interpolation\" instead.\n",
      "INFO:tensorflow:Done calling model_fn.\n",
      "INFO:tensorflow:Starting evaluation at 2020-09-27T16:46:45Z\n",
      "INFO:tensorflow:Graph was finalized.\n",
      "INFO:tensorflow:Restoring parameters from /home/jovyan/work/notebooks/../logs/model.ckpt-1902\n",
      "INFO:tensorflow:Running local_init_op.\n",
      "INFO:tensorflow:Done running local_init_op.\n",
      "INFO:tensorflow:Inference Time : 0.71565s\n",
      "INFO:tensorflow:Finished evaluation at 2020-09-27-16:46:46\n",
      "INFO:tensorflow:Saving dict for global step 1902: accuracy = 0.8708054, accuracy_baseline = 0.81543624, auc = 0.8979237, auc_precision_recall = 0.66493344, average_loss = 0.3012892, global_step = 1902, label/mean = 0.18456376, loss = 0.31152692, precision = 0.6987952, prediction/mean = 0.20066111, recall = 0.5272727\n",
      "INFO:tensorflow:Saving 'checkpoint_path' summary for global step 1902: /home/jovyan/work/notebooks/../logs/model.ckpt-1902\n"
     ]
    }
   ],
   "source": [
    "model, metrics = train_and_evaluate()"
   ]
  },
  {
   "cell_type": "markdown",
   "metadata": {},
   "source": [
    "### Evaluate pre-made Estimator"
   ]
  },
  {
   "cell_type": "code",
   "execution_count": 114,
   "metadata": {},
   "outputs": [
    {
     "name": "stdout",
     "output_type": "stream",
     "text": [
      "INFO:tensorflow:Calling model_fn.\n",
      "INFO:tensorflow:Done calling model_fn.\n",
      "INFO:tensorflow:Graph was finalized.\n",
      "INFO:tensorflow:Restoring parameters from /home/jovyan/work/notebooks/../logs/model.ckpt-1902\n",
      "INFO:tensorflow:Running local_init_op.\n",
      "INFO:tensorflow:Done running local_init_op.\n"
     ]
    }
   ],
   "source": [
    "predictions_dictionary = list(model.predict(test_input_fn))\n",
    "predictions = pd.Series([pred['class_ids'] for pred in predictions_dictionary])"
   ]
  },
  {
   "cell_type": "code",
   "execution_count": 115,
   "metadata": {},
   "outputs": [
    {
     "data": {
      "image/png": "[encoded data removed]",
      "text/plain": [
       "<Figure size 864x720 with 3 Axes>"
      ]
     },
     "metadata": {
      "needs_background": "light"
     },
     "output_type": "display_data"
    }
   ],
   "source": [
    "test_labels = data_test['BAD']\n",
    "plot_metrics(\"Test sample\", test_labels, predictions, p=0.5)"
   ]
  },
  {
   "cell_type": "code",
   "execution_count": 109,
   "metadata": {},
   "outputs": [
    {
     "name": "stdout",
     "output_type": "stream",
     "text": [
      "Correlation matrix info\n",
      "True Negatives - No default loans that pay 452\n",
      "False Positives - No default loans that dont pay 34\n",
      "False Negatives - Default loans that pay 97\n",
      "True Positives: - Default loans that dont pay 13\n",
      "Total Defauts:  110\n",
      "\n",
      "--------------------\n",
      "\n",
      "Evalutation Metrics\n",
      "accuracy : 0.7802013\n",
      "accuracy_baseline : 0.81543624\n",
      "auc : 0.52469134\n",
      "auc_precision_recall : 0.2758842\n",
      "average_loss : 1276827400.0\n",
      "label/mean : 0.18456376\n",
      "loss : 1268315500.0\n",
      "precision : 0.27659574\n",
      "prediction/mean : 0.08064641\n",
      "recall : 0.11818182\n",
      "global_step : 600\n"
     ]
    }
   ],
   "source": [
    "print_metrics(calculate_correlation_matrix(test_labels, predictions), metrics)"
   ]
  },
  {
   "cell_type": "markdown",
   "metadata": {},
   "source": [
    "**Comment**: Models are really bad. Data are too much unbalanced. Need to change the strategy. \n",
    "\n",
    "For now, assume that **the best model is boosted_trees_classifier**"
   ]
  },
  {
   "cell_type": "markdown",
   "metadata": {},
   "source": [
    "---"
   ]
  },
  {
   "cell_type": "markdown",
   "metadata": {},
   "source": [
    "# 5. Model Serving"
   ]
  },
  {
   "cell_type": "markdown",
   "metadata": {},
   "source": [
    "## Save your model"
   ]
  },
  {
   "cell_type": "code",
   "execution_count": 124,
   "metadata": {},
   "outputs": [],
   "source": [
    "# https://guillaumegenthial.github.io/serving-tensorflow-estimator.html\n",
    "# shutil.rmtree(MODEL_DIR, ignore_errors=True)\n",
    "VERSION = 1\n",
    "DATE = datetime.datetime.now().strftime(\"%Y%m%d%H%M%S\")\n",
    "ID = \"_\".join([str(DATE), str(VERSION)])\n",
    "EXPORT_PATH = os.path.join(MODEL_DIR, ID)"
   ]
  },
  {
   "cell_type": "code",
   "execution_count": 125,
   "metadata": {},
   "outputs": [],
   "source": [
    "serving_input_fn = tf.estimator.export.build_parsing_serving_input_receiver_fn(tf.feature_column.make_parse_example_spec(feature_columns))"
   ]
  },
  {
   "cell_type": "code",
   "execution_count": 126,
   "metadata": {},
   "outputs": [
    {
     "name": "stdout",
     "output_type": "stream",
     "text": [
      "INFO:tensorflow:Calling model_fn.\n",
      "INFO:tensorflow:Done calling model_fn.\n",
      "WARNING:tensorflow:From /opt/conda/lib/python3.8/site-packages/tensorflow/python/saved_model/signature_def_utils_impl.py:145: build_tensor_info (from tensorflow.python.saved_model.utils_impl) is deprecated and will be removed in a future version.\n",
      "Instructions for updating:\n",
      "This function will only be available through the v1 compatibility library as tf.compat.v1.saved_model.utils.build_tensor_info or tf.compat.v1.saved_model.build_tensor_info.\n",
      "INFO:tensorflow:Signatures INCLUDED in export for Classify: ['serving_default', 'classification']\n",
      "INFO:tensorflow:Signatures INCLUDED in export for Regress: ['regression']\n",
      "INFO:tensorflow:Signatures INCLUDED in export for Predict: ['predict']\n",
      "INFO:tensorflow:Signatures INCLUDED in export for Train: None\n",
      "INFO:tensorflow:Signatures INCLUDED in export for Eval: None\n",
      "INFO:tensorflow:Restoring parameters from /home/jovyan/work/notebooks/../logs/model.ckpt-1902\n",
      "INFO:tensorflow:Assets added to graph.\n",
      "INFO:tensorflow:No assets to write.\n",
      "WARNING:tensorflow:Issue encountered when serializing resources.\n",
      "Type is unsupported, or the types of the items don't match field type in CollectionDef. Note this is a warning and probably safe to ignore.\n",
      "'_Resource' object has no attribute 'name'\n",
      "INFO:tensorflow:SavedModel written to: /home/jovyan/work/notebooks/../models/20200927165533_1/temp-1601225736/saved_model.pb\n"
     ]
    },
    {
     "data": {
      "text/plain": [
       "b'/home/jovyan/work/notebooks/../models/20200927165533_1/1601225736'"
      ]
     },
     "execution_count": 126,
     "metadata": {},
     "output_type": "execute_result"
    }
   ],
   "source": [
    "estimator.export_saved_model(EXPORT_PATH, serving_input_fn)"
   ]
  },
  {
   "cell_type": "code",
   "execution_count": 127,
   "metadata": {},
   "outputs": [
    {
     "name": "stdout",
     "output_type": "stream",
     "text": [
      "The given SavedModel SignatureDef contains the following input(s):\n",
      "  inputs['inputs'] tensor_info:\n",
      "      dtype: DT_STRING\n",
      "      shape: (-1)\n",
      "      name: input_example_tensor:0\n",
      "The given SavedModel SignatureDef contains the following output(s):\n",
      "  outputs['classes'] tensor_info:\n",
      "      dtype: DT_STRING\n",
      "      shape: (-1, 2)\n",
      "      name: boosted_trees/head/Tile:0\n",
      "  outputs['scores'] tensor_info:\n",
      "      dtype: DT_FLOAT\n",
      "      shape: (-1, 2)\n",
      "      name: boosted_trees/head/predictions/probabilities:0\n",
      "Method name is: tensorflow/serving/classify\n"
     ]
    },
    {
     "name": "stderr",
     "output_type": "stream",
     "text": [
      "2020-09-27 16:55:54.832808: W tensorflow/stream_executor/platform/default/dso_loader.cc:59] Could not load dynamic library 'libcudart.so.10.1'; dlerror: libcudart.so.10.1: cannot open shared object file: No such file or directory\n",
      "2020-09-27 16:55:54.832860: I tensorflow/stream_executor/cuda/cudart_stub.cc:29] Ignore above cudart dlerror if you do not have a GPU set up on your machine.\n"
     ]
    }
   ],
   "source": [
    "%%bash\n",
    "export DIR=/home/jovyan/work/notebooks/../models/20200927165533_1/1601225736\n",
    "saved_model_cli show \\\n",
    " --tag_set serve \\\n",
    " --signature_def serving_default \\\n",
    " --dir $DIR"
   ]
  },
  {
   "cell_type": "markdown",
   "metadata": {},
   "source": [
    "## Test it with Docker via Restful API\n",
    "\n",
    "I could do that using Python Docker client. \n",
    "\n",
    "Check my project here: https://github.com/IvanNardini/modelops-aws-web-endpoint-hosted/blob/master/notebooks/02_engineering.ipynb\n",
    "\n",
    "In that case, go on terminal and run the following commands.\n",
    "\n",
    "In my case...\n",
    "\n",
    "```bash\n",
    "docker pull tensorflow/serving\n",
    "EXPORT_BASE_DIR=/home/ubuntu/modelops-sas-tensorflow-workflow-manager-openshift/models/20200927165533_1/\n",
    "docker run -t --rm --name tf -p 8501:8501 -v \"$EXPORT_BASE_DIR:/models/model\" tensorflow/serving\n",
    "SERVER=$(hostname -I | cut -d ' ' -f1)\n",
    "curl -d '{\"examples\":[{\"LOAN\": 34400.0, \"MORTDUE\": 97971.0, \"VALUE\": 145124.0, \"YOJ\": 13.0, \"DEROG\": 0.0, \"DELINQ\": 0.0, \"CLAGE\": 67.832, \"NINQ\": 1.0, \"CLNO\": 36.0, \"DEBTINC\": 40.402, \"REASON\": \"DebtCon\", \"JOB\": \"Other\"}]}' -X POST http://$SERVER:8501/v1/models/model:classify\n",
    "```"
   ]
  }
 ],
 "metadata": {
  "kernelspec": {
   "display_name": "Python 3",
   "language": "python",
   "name": "python3"
  },
  "language_info": {
   "codemirror_mode": {
    "name": "ipython",
    "version": 3
   },
   "file_extension": ".py",
   "mimetype": "text/x-python",
   "name": "python",
   "nbconvert_exporter": "python",
   "pygments_lexer": "ipython3",
   "version": "3.8.5"
  },
  "latex_envs": {
   "LaTeX_envs_menu_present": true,
   "autoclose": false,
   "autocomplete": true,
   "bibliofile": "biblio.bib",
   "cite_by": "apalike",
   "current_citInitial": 1,
   "eqLabelWithNumbers": true,
   "eqNumInitial": 1,
   "hotkeys": {
    "equation": "Ctrl-E",
    "itemize": "Ctrl-I"
   },
   "labels_anchors": false,
   "latex_user_defs": false,
   "report_style_numbering": false,
   "user_envs_cfg": false
  },
  "toc": {
   "base_numbering": 1,
   "nav_menu": {},
   "number_sections": true,
   "sideBar": true,
   "skip_h1_title": false,
   "title_cell": "Table of Contents",
   "title_sidebar": "Contents",
   "toc_cell": false,
   "toc_position": {},
   "toc_section_display": true,
   "toc_window_display": true
  },
  "varInspector": {
   "cols": {
    "lenName": 16,
    "lenType": 16,
    "lenVar": 40
   },
   "kernels_config": {
    "python": {
     "delete_cmd_postfix": "",
     "delete_cmd_prefix": "del ",
     "library": "var_list.py",
     "varRefreshCmd": "print(var_dic_list())"
    },
    "r": {
     "delete_cmd_postfix": ") ",
     "delete_cmd_prefix": "rm(",
     "library": "var_list.r",
     "varRefreshCmd": "cat(var_dic_list()) "
    }
   },
   "types_to_exclude": [
    "module",
    "function",
    "builtin_function_or_method",
    "instance",
    "_Feature"
   ],
   "window_display": false
  }
 },
 "nbformat": 4,
 "nbformat_minor": 2
}
